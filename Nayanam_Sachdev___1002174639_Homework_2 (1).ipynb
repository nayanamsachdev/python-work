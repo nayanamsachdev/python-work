{
  "nbformat": 4,
  "nbformat_minor": 0,
  "metadata": {
    "colab": {
      "provenance": []
    },
    "kernelspec": {
      "name": "python3",
      "display_name": "Python 3"
    },
    "language_info": {
      "name": "python"
    }
  },
  "cells": [
    {
      "cell_type": "markdown",
      "source": [
        "#Question 1\n",
        "\n",
        "Write a program to request a file name from the user and calculate the\n",
        "following statistics of the contents of the file:\n",
        "1. Number of lines\n",
        "2. Number of words\n",
        "3. Number of characters\n",
        "4. Average length of a word\n",
        "\n",
        "In this problem use the following definitions:\n",
        "\n",
        "A line is a sequence of characters that end with a newline (\\n) character\n",
        "\n",
        "A word bounded by one or more spaces (or \\n) on either side of it (or both sides)\n",
        "\n",
        "A character is any single length string, e.g. ‘a’, ‘-‘, etc. but not a space (or white space)\n",
        "\n",
        "Note: If your file statistics are different from the answer I have given above, please explain in your notes/markdown script how you arrived at your answers. For example if you use the readlines() function then it will count the last line which does not end with a newline (\\n) as a line, that is fine as long as you understand it and are able to explain"
      ],
      "metadata": {
        "id": "MlN-a2LsIn3B"
      }
    },
    {
      "cell_type": "markdown",
      "source": [
        "###Algorithm\n",
        "\n",
        "1. Define a function named file_info that takes a file name as input (user).\n",
        "  * Open the file in read mode using a with statement to ensure proper handling of file resources.\n",
        "  * Read the content of the file.\n",
        "  * Count the number of lines in the file.\n",
        "  * Split the content into words and count the number of words.\n",
        "  * Count the total number of characters in the file.\n",
        "  * Calculate the average length of a word in the file.\n",
        "  * Print the number of lines, words, characters, and the average length of a word.\n",
        "2. Within the function, handle the FileNotFoundError exception in case the specified file is not found. Print an error message in this case.\n",
        "3. Get user input for the file name.\n",
        "4. Call the file_info function with the user input as an argument."
      ],
      "metadata": {
        "id": "If-A9-o6JCSt"
      }
    },
    {
      "cell_type": "markdown",
      "source": [
        "###Code Implementation"
      ],
      "metadata": {
        "id": "s60tiK-SJGQw"
      }
    },
    {
      "cell_type": "code",
      "execution_count": null,
      "metadata": {
        "id": "6eTxCsO5g2dm",
        "colab": {
          "base_uri": "https://localhost:8080/"
        },
        "outputId": "09058621-c50b-4747-ff86-c7c6b2e26d4a"
      },
      "outputs": [
        {
          "output_type": "stream",
          "name": "stdout",
          "text": [
            "Enter file name: dnfbcmns\n",
            "An error has occurred: File 'dnfbcmns' not found in the database.\n"
          ]
        }
      ],
      "source": [
        "#To define a function that takes the file name as input\n",
        "def file_info(user):\n",
        "  try:\n",
        "    #To open the file in read mode\n",
        "    with open(user, 'r') as f:\n",
        "      #To read the content of the file\n",
        "      content = f.read()\n",
        "\n",
        "      #To count the lines in the file\n",
        "      count_lines = content.count('\\n') + 1\n",
        "      print(f\"Number of lines: {count_lines}\")\n",
        "\n",
        "      #To split the content into words and count them\n",
        "      words = content.split()\n",
        "      count_words = len(words)\n",
        "      print(f\"Number of words: {count_words}\")\n",
        "\n",
        "      #To count the total number of characters in the file\n",
        "      count_characters = len(content)\n",
        "      print(f\"Number of characters: {count_characters}\")\n",
        "\n",
        "      #To calculate the average length of a word in the file\n",
        "      if count_words > 0:\n",
        "        avg_length =  sum(len(word) for word in words) / len(words)\n",
        "      else:\n",
        "        avg_length = 0\n",
        "      print(f\"Average length of a word: {avg_length}\")\n",
        "\n",
        "  #To handle exception when the input is incorrect\n",
        "  except FileNotFoundError:\n",
        "    print(f\"An error has occurred: File '{user}' not found in the database.\")\n",
        "\n",
        "#To get user input\n",
        "user = input(\"Enter file name: \")\n",
        "\n",
        "#To call the function using the user input\n",
        "file_info(user)"
      ]
    },
    {
      "cell_type": "markdown",
      "source": [
        "#Question 2\n",
        "\n",
        "A string is an anagram of another if the second string is simply a scrambled version of the first. Write a python program to implement the following game:\n",
        "\n",
        "a) Reads in a file that has words and their meanings in a text file. An example “words and their meanings” file is given in canvas. Note that your program needs to ask the user for the “words and their meanings” file to use.\n",
        "\n",
        "b) The words and their meanings text file is of the csv (comma separated values) format. Use either notepad++ or notepad to create your file in the same format as the mywords.txt file given to you in canvas.\n",
        "\n",
        "c) Your program should then pick a word from the “words and their meanings” file, scramble the letters, and ask the user to unscramble it. Every run of your program should pick a word at random.\n",
        "\n",
        "d) The user may type in the unscrambled word or may ask for the definition meaning of the word by entering a question mark.\n",
        "\n",
        "e) The game continues for the number of times as the number of letters in the word. For example if the word is “poor”, the program will allow four attempts.\n",
        "\n",
        "f) The program will also provide the definition of the word (at the user’s request), only once. If the user enters “?” more than once, an error message will be given with the warning that the next input of a “?” will be counted as an attempt at the answer.\n",
        "\n",
        "g) until the user says “no” to the question: “Do you want to continue?”."
      ],
      "metadata": {
        "id": "UQSJwYW2SxYb"
      }
    },
    {
      "cell_type": "markdown",
      "source": [
        "###Algorithm\n",
        "\n",
        "1. Read the File (read_the_file function):\n",
        "  * Read a file with words and meanings.\n",
        "  * Create a dictionary to store word-meaning pairs.\n",
        "  * Populate the dictionary with data from the file.\n",
        "  * Return the dictionary.\n",
        "2. Shuffle Word Letters (rearranged function):\n",
        "  * Shuffle the letters of a given word.\n",
        "3. Word Unscrambling Game (game function):\n",
        "  * Ask the player if they want to play.\n",
        "  * While the player wants to play:\n",
        "    * Choose a random word, shuffle its letters, and display it.\n",
        "    * Allow the player attempts to unscramble the word.\n",
        "    * Provide the meaning if requested (once).\n",
        "    * Congratulate the player on correct unscrambling or end the game if attempts are exceeded.\n",
        "    * Ask if the player wants to play again.\n",
        "4. Main Program (main function):\n",
        "  * Get the file name from the user.\n",
        "  * Attempt to read the file and handle errors.\n",
        "  * If successful, play the word unscrambling game.\n",
        "5. Program Execution:\n",
        "  * Get the file name, read the file, and store word-meaning pairs.\n",
        "  * Play the word unscrambling game with the player.\n",
        "  * Handle errors if the file is not found.\n"
      ],
      "metadata": {
        "id": "O2npmWzVTiZk"
      }
    },
    {
      "cell_type": "markdown",
      "source": [
        "###Code Implementation"
      ],
      "metadata": {
        "id": "inb5wgkhTk38"
      }
    },
    {
      "cell_type": "code",
      "source": [
        "import random\n",
        "\n",
        "#To read a file and store the data in a dictionary\n",
        "def read_the_file(file_name):\n",
        "  words_and_meanings = {}\n",
        "  with open(file_name, 'r') as f:\n",
        "    for row in f:\n",
        "      #To add the words and their meanings in a dictionary by splitting each row\n",
        "      word, meaning = row.strip().split(',')\n",
        "      words_and_meanings[word] = meaning\n",
        "  return words_and_meanings\n",
        "\n",
        "#To shuffle the letters of a word\n",
        "def rearranged(word):\n",
        "  scrambled = list(word)\n",
        "  random.shuffle(scrambled)\n",
        "  return ''.join(scrambled)\n",
        "\n",
        "#To implement the word unscrambling game\n",
        "def game(words_and_meanings):\n",
        "  #To ask the player if they want to play\n",
        "  play = input(\"Do you want to play? (y/n)\").lower()\n",
        "\n",
        "  #To continue playing as long as the player wants\n",
        "  while play == 'y':\n",
        "      #To choose a random word from the dictionary\n",
        "      word = random.choice(list(words_and_meanings.keys()))\n",
        "      scrambled_word = rearranged(word)\n",
        "      trials = len(word)\n",
        "      computer_output = False\n",
        "\n",
        "      #To display the scrambled word to the player\n",
        "      print(f\"Unscramble the following letters to form a word: {scrambled_word}\")\n",
        "\n",
        "      #To allow the play a certain number of attempts\n",
        "      for _ in range(trials):\n",
        "        #To get user input\n",
        "        user = input(\"Enter the answer [or ? for the meaning]: \").lower()\n",
        "\n",
        "        if user == '?':\n",
        "          #To provide the meaning\n",
        "          if computer_output:\n",
        "            print(\"You have been given the meaning before. Next time you ask for the meaning, it will count as an attempt!\")\n",
        "          else:\n",
        "            print(f\"The word means: {words_and_meanings[word]}\")\n",
        "            computer_output = True\n",
        "        elif user == word:\n",
        "          print(\"You got it!\")\n",
        "          break\n",
        "        else:\n",
        "          print(\"Wrong, try again\")\n",
        "\n",
        "      #To check of the player exceeded the number of attempts\n",
        "      if not computer_output:\n",
        "        if user != word:\n",
        "          print(\"Wrong, you have exceeded the number of attempts. Bye!\")\n",
        "\n",
        "      #To ask the player if they want to play again\n",
        "      play = input(\"Do you want to play again? (y/n)\").lower()\n",
        "\n",
        "  print(\"Goodbye!\")\n",
        "\n",
        "#To execute the program\n",
        "def main():\n",
        "  #To get the user to input file name\n",
        "  file_name = input(\"Give the name of the 'words and their meanings' file:\")\n",
        "\n",
        "  try:\n",
        "    #To attempt to read the file and play the game\n",
        "    words_and_meanings = read_the_file(file_name)\n",
        "    game(words_and_meanings)\n",
        "  except FileNotFoundError:\n",
        "    print(f\"File '{file_name}' not found.\")\n",
        "\n",
        "#To call the main function to run the program\n",
        "main()"
      ],
      "metadata": {
        "id": "pOzdGwSmBLkz",
        "colab": {
          "base_uri": "https://localhost:8080/",
          "height": 373
        },
        "outputId": "48322b7f-49fc-478f-a792-53b390d23df4"
      },
      "execution_count": null,
      "outputs": [
        {
          "name": "stdout",
          "output_type": "stream",
          "text": [
            "Give the name of the 'words and their meanings' file:/content/drive/MyDrive/Colab Notebooks/Homework 2 Datasets/mywords.txt\n"
          ]
        },
        {
          "output_type": "error",
          "ename": "KeyboardInterrupt",
          "evalue": "ignored",
          "traceback": [
            "\u001b[0;31m---------------------------------------------------------------------------\u001b[0m",
            "\u001b[0;31mKeyboardInterrupt\u001b[0m                         Traceback (most recent call last)",
            "\u001b[0;32m<ipython-input-9-44a53ad2cec2>\u001b[0m in \u001b[0;36m<cell line: 76>\u001b[0;34m()\u001b[0m\n\u001b[1;32m     74\u001b[0m \u001b[0;34m\u001b[0m\u001b[0m\n\u001b[1;32m     75\u001b[0m \u001b[0;31m#To call the main function to run the program\u001b[0m\u001b[0;34m\u001b[0m\u001b[0;34m\u001b[0m\u001b[0m\n\u001b[0;32m---> 76\u001b[0;31m \u001b[0mmain\u001b[0m\u001b[0;34m(\u001b[0m\u001b[0;34m)\u001b[0m\u001b[0;34m\u001b[0m\u001b[0;34m\u001b[0m\u001b[0m\n\u001b[0m",
            "\u001b[0;32m<ipython-input-9-44a53ad2cec2>\u001b[0m in \u001b[0;36mmain\u001b[0;34m()\u001b[0m\n\u001b[1;32m     69\u001b[0m     \u001b[0;31m#To attempt to read the file and play the game\u001b[0m\u001b[0;34m\u001b[0m\u001b[0;34m\u001b[0m\u001b[0m\n\u001b[1;32m     70\u001b[0m     \u001b[0mwords_and_meanings\u001b[0m \u001b[0;34m=\u001b[0m \u001b[0mread_the_file\u001b[0m\u001b[0;34m(\u001b[0m\u001b[0mfile_name\u001b[0m\u001b[0;34m)\u001b[0m\u001b[0;34m\u001b[0m\u001b[0;34m\u001b[0m\u001b[0m\n\u001b[0;32m---> 71\u001b[0;31m     \u001b[0mgame\u001b[0m\u001b[0;34m(\u001b[0m\u001b[0mwords_and_meanings\u001b[0m\u001b[0;34m)\u001b[0m\u001b[0;34m\u001b[0m\u001b[0;34m\u001b[0m\u001b[0m\n\u001b[0m\u001b[1;32m     72\u001b[0m   \u001b[0;32mexcept\u001b[0m \u001b[0mFileNotFoundError\u001b[0m\u001b[0;34m:\u001b[0m\u001b[0;34m\u001b[0m\u001b[0;34m\u001b[0m\u001b[0m\n\u001b[1;32m     73\u001b[0m     \u001b[0mprint\u001b[0m\u001b[0;34m(\u001b[0m\u001b[0;34mf\"File '{file_name}' not found.\"\u001b[0m\u001b[0;34m)\u001b[0m\u001b[0;34m\u001b[0m\u001b[0;34m\u001b[0m\u001b[0m\n",
            "\u001b[0;32m<ipython-input-9-44a53ad2cec2>\u001b[0m in \u001b[0;36mgame\u001b[0;34m(words_and_meanings)\u001b[0m\n\u001b[1;32m     20\u001b[0m \u001b[0;32mdef\u001b[0m \u001b[0mgame\u001b[0m\u001b[0;34m(\u001b[0m\u001b[0mwords_and_meanings\u001b[0m\u001b[0;34m)\u001b[0m\u001b[0;34m:\u001b[0m\u001b[0;34m\u001b[0m\u001b[0;34m\u001b[0m\u001b[0m\n\u001b[1;32m     21\u001b[0m   \u001b[0;31m#To ask the player if they want to play\u001b[0m\u001b[0;34m\u001b[0m\u001b[0;34m\u001b[0m\u001b[0m\n\u001b[0;32m---> 22\u001b[0;31m   \u001b[0mplay\u001b[0m \u001b[0;34m=\u001b[0m \u001b[0minput\u001b[0m\u001b[0;34m(\u001b[0m\u001b[0;34m\"Do you want to play? (y/n)\"\u001b[0m\u001b[0;34m)\u001b[0m\u001b[0;34m.\u001b[0m\u001b[0mlower\u001b[0m\u001b[0;34m(\u001b[0m\u001b[0;34m)\u001b[0m\u001b[0;34m\u001b[0m\u001b[0;34m\u001b[0m\u001b[0m\n\u001b[0m\u001b[1;32m     23\u001b[0m \u001b[0;34m\u001b[0m\u001b[0m\n\u001b[1;32m     24\u001b[0m   \u001b[0;31m#To continue playing as long as the player wants\u001b[0m\u001b[0;34m\u001b[0m\u001b[0;34m\u001b[0m\u001b[0m\n",
            "\u001b[0;32m/usr/local/lib/python3.10/dist-packages/ipykernel/kernelbase.py\u001b[0m in \u001b[0;36mraw_input\u001b[0;34m(self, prompt)\u001b[0m\n\u001b[1;32m    849\u001b[0m                 \u001b[0;34m\"raw_input was called, but this frontend does not support input requests.\"\u001b[0m\u001b[0;34m\u001b[0m\u001b[0;34m\u001b[0m\u001b[0m\n\u001b[1;32m    850\u001b[0m             )\n\u001b[0;32m--> 851\u001b[0;31m         return self._input_request(str(prompt),\n\u001b[0m\u001b[1;32m    852\u001b[0m             \u001b[0mself\u001b[0m\u001b[0;34m.\u001b[0m\u001b[0m_parent_ident\u001b[0m\u001b[0;34m,\u001b[0m\u001b[0;34m\u001b[0m\u001b[0;34m\u001b[0m\u001b[0m\n\u001b[1;32m    853\u001b[0m             \u001b[0mself\u001b[0m\u001b[0;34m.\u001b[0m\u001b[0m_parent_header\u001b[0m\u001b[0;34m,\u001b[0m\u001b[0;34m\u001b[0m\u001b[0;34m\u001b[0m\u001b[0m\n",
            "\u001b[0;32m/usr/local/lib/python3.10/dist-packages/ipykernel/kernelbase.py\u001b[0m in \u001b[0;36m_input_request\u001b[0;34m(self, prompt, ident, parent, password)\u001b[0m\n\u001b[1;32m    893\u001b[0m             \u001b[0;32mexcept\u001b[0m \u001b[0mKeyboardInterrupt\u001b[0m\u001b[0;34m:\u001b[0m\u001b[0;34m\u001b[0m\u001b[0;34m\u001b[0m\u001b[0m\n\u001b[1;32m    894\u001b[0m                 \u001b[0;31m# re-raise KeyboardInterrupt, to truncate traceback\u001b[0m\u001b[0;34m\u001b[0m\u001b[0;34m\u001b[0m\u001b[0m\n\u001b[0;32m--> 895\u001b[0;31m                 \u001b[0;32mraise\u001b[0m \u001b[0mKeyboardInterrupt\u001b[0m\u001b[0;34m(\u001b[0m\u001b[0;34m\"Interrupted by user\"\u001b[0m\u001b[0;34m)\u001b[0m \u001b[0;32mfrom\u001b[0m \u001b[0;32mNone\u001b[0m\u001b[0;34m\u001b[0m\u001b[0;34m\u001b[0m\u001b[0m\n\u001b[0m\u001b[1;32m    896\u001b[0m             \u001b[0;32mexcept\u001b[0m \u001b[0mException\u001b[0m \u001b[0;32mas\u001b[0m \u001b[0me\u001b[0m\u001b[0;34m:\u001b[0m\u001b[0;34m\u001b[0m\u001b[0;34m\u001b[0m\u001b[0m\n\u001b[1;32m    897\u001b[0m                 \u001b[0mself\u001b[0m\u001b[0;34m.\u001b[0m\u001b[0mlog\u001b[0m\u001b[0;34m.\u001b[0m\u001b[0mwarning\u001b[0m\u001b[0;34m(\u001b[0m\u001b[0;34m\"Invalid Message:\"\u001b[0m\u001b[0;34m,\u001b[0m \u001b[0mexc_info\u001b[0m\u001b[0;34m=\u001b[0m\u001b[0;32mTrue\u001b[0m\u001b[0;34m)\u001b[0m\u001b[0;34m\u001b[0m\u001b[0;34m\u001b[0m\u001b[0m\n",
            "\u001b[0;31mKeyboardInterrupt\u001b[0m: Interrupted by user"
          ]
        }
      ]
    },
    {
      "cell_type": "markdown",
      "source": [
        "#Question 3\n",
        "\n",
        "The file poetry_lines.txt is given to you (see Canvas for the file\n",
        "poetry_lines.txt).\n",
        "The file contains names of poets and an extract of their poetry. New lines in each poem are represented by a ‘/’. The format of a line is the following:\n",
        "\n",
        "<Poet’s name>:<poetry delineated by ‘/’>\\n\n",
        "\n",
        "The first string in each line is the name of the author followed by a ‘:’, followed by the poetry which is delineated by ‘/’ to represent a new line in the poem.\n",
        "\n",
        "The next line contains the next poem and so on.\n",
        "\n",
        "You are required to input a few lines of your own poem to the python program (with lines separated by “/”) and compute the cosine distance (similarity score) between each line (of poetry from the file) and your own poem. Finally your program should display the following:\n",
        "\n",
        "* Each poet and the similarity score with your poem.\n",
        "* Finally display the poem that is closest to your input.\n",
        "\n",
        "An example of how to compute the cosine distance between two lines of text is given below:\n",
        "\n",
        "Line1: Hi Hi Hi how are you\n",
        "\n",
        "Line2: Hi how are u u\n",
        "\n",
        "1. The cosine similarity between two vectors (A and B) is given by the formula:\n",
        "\n",
        "                similarity = cos(theta) = A.B / (||A|| ||B||)\n",
        "\n",
        "2. Create a dictionary of keys with the words and the values with the number of occurrences.\n",
        "\n",
        "  a. Line1dict = {‘Hi’:3,’how’:1,’are’:1,’you’:1,’u’:0}\n",
        "\n",
        "  b. Line2dict = {{‘Hi’:1,’how’:1,’are’:1,’you’:0,’u’:2}\n",
        "\n",
        "3. The values in the two dictionaries form the two vectors to be compared. For example:\n",
        "\n",
        "  a. Line1vector = (3,1,1,1,0)\n",
        "\n",
        "  b. Line2vector = (1,1,1,0,2)\n",
        "\n",
        "4. Now you can implement the cosine similarity formula above to compare Line1vector and Line2vector.\n",
        "5. Note that the cosine distance should be between 0 and 1.\n",
        "\n",
        "Your program should provide the following:\n",
        "\n",
        "1. Ability to read in a user provided filename which contains names of poets and an extract of their poetry in the specified format.\n",
        "2. Read in user’s own poem (using the input() method).\n",
        "3. Functionality to compute the similarity (use cosine distant) between each poem and the user’s poem and display the results.\n",
        "4. Finally choose and display the poem that is most similar to the user’s input."
      ],
      "metadata": {
        "id": "wWrC83r0iHvw"
      }
    },
    {
      "cell_type": "markdown",
      "source": [
        "###Algorithm\n",
        "\n",
        "1. Define line_analysis function to preprocess a line:\n",
        "  * Tokenize the line into words.\n",
        "  * Create a word frequency dictionary for the line.\n",
        "  * Return the word frequency dictionary.\n",
        "2. Define similarity_score function to calculate cosine similarity:\n",
        "  * Calculate the dot product of two vectors.\n",
        "  * Calculate the magnitude of each vector.\n",
        "  * Avoid division by zero.\n",
        "  * Return the cosine similarity.\n",
        "3. Main Function (main):\n",
        "  * Read a poetry file specified by the user.\n",
        "  * If the file is not found, print an error message and exit.\n",
        "  * Prompt the user to input their poem, delimited by '/' for each line.\n",
        "  * Preprocess the user's poem using line_analysis.\n",
        "  * Compute cosine similarity between the user's poem and each poem from the file.\n",
        "  * Display the cosine similarity results for each poet.\n",
        "  * Identify and display the closest poem and poet.\n",
        "4. Program Execution:\n",
        "  * Get the name of the poetry file from the user.\n",
        "  * Read the file and store each line in a list (poem_lines).\n",
        "  * Get the user's poem input and preprocess it.\n",
        "  * Compute and display the cosine similarity between the user's poem and each poem from the file.\n",
        "  * Identify and display the closest poem and poet based on cosine similarity."
      ],
      "metadata": {
        "id": "5FV0CHCkiKvX"
      }
    },
    {
      "cell_type": "markdown",
      "source": [
        "###Code Implementation"
      ],
      "metadata": {
        "id": "mfjjpb86iNSF"
      }
    },
    {
      "cell_type": "code",
      "source": [
        "import math\n",
        "\n",
        "def line_analysis(line):\n",
        "  # Function to preprocess a line by tokenizing and creating a word frequency dictionary\n",
        "  words = line.split()\n",
        "  count = {}\n",
        "  count = {word: count.get(word, 0) + 1 for word in words}\n",
        "  return count\n",
        "\n",
        "def similarity_score(v1, v2):\n",
        "  # Function to calculate cosine similarity between two vectors\n",
        "  dot_prod = sum(v1[key] * v2[key] for key in v1 if key in v2)\n",
        "  mod_v1 = math.sqrt(sum(value ** 2 for value in v1.values()))\n",
        "  mod_v2 = math.sqrt(sum(value ** 2 for value in v2.values()))\n",
        "\n",
        "  if mod_v1 == 0 or mod_v2 == 0:\n",
        "    return 0  # Avoid division by zero\n",
        "\n",
        "  return dot_prod / (mod_v1 * mod_v2)\n",
        "\n",
        "def main():\n",
        "  # Step 1: Read in the poetry file\n",
        "  read_file = input(\"Give the name of the poetry file: \")\n",
        "  try:\n",
        "    with open(read_file, 'r') as f:\n",
        "      poem_lines = f.readlines()\n",
        "  except FileNotFoundError:\n",
        "    print(f\"File '{read_file}' not found.\")\n",
        "    return\n",
        "\n",
        "  # Step 2: Read in user's poem\n",
        "  user = input(\"Input your poem delineated by '/' for each line: \")\n",
        "\n",
        "  # Preprocess user's poem\n",
        "  user_vec = line_analysis(user)\n",
        "\n",
        "  # Step 3: Compute cosine similarity and display results\n",
        "  cosine_similarity_result = {}\n",
        "\n",
        "  for line in poem_lines:\n",
        "    poet_name, poem = line.strip().split(':')\n",
        "    poem_vec = line_analysis(poem)\n",
        "    similarity = similarity_score(user_vec, poem_vec)\n",
        "    cosine_similarity_result[poet_name] = similarity\n",
        "\n",
        "  # Display cosine distance results\n",
        "  print(\"Cosine distance results:\")\n",
        "  for poet_name, similarity in cosine_similarity_result.items():\n",
        "    print(f\"{poet_name}: {similarity}\")\n",
        "\n",
        "  # Step 4: Identify and display the closest poem\n",
        "  closest_poet = max(cosine_similarity_result, key=lambda x: cosine_similarity_result[x])\n",
        "  closest_similarity = cosine_similarity_result[closest_poet]\n",
        "  closest_poem = poem_lines[list(cosine_similarity_result.keys()).index(closest_poet)].strip().split(':')[1]\n",
        "\n",
        "  print(\"The closest poem is:\")\n",
        "  print(f\"{closest_poet}: {closest_poem}\")\n",
        "\n",
        "main()"
      ],
      "metadata": {
        "id": "eSraombziG0m",
        "colab": {
          "base_uri": "https://localhost:8080/"
        },
        "outputId": "eed56e7d-3b51-40f3-d575-e2612a889192"
      },
      "execution_count": null,
      "outputs": [
        {
          "output_type": "stream",
          "name": "stdout",
          "text": [
            "Give the name of the poetry file: jbhj\n",
            "File 'jbhj' not found.\n"
          ]
        }
      ]
    },
    {
      "cell_type": "markdown",
      "source": [
        "#Question 4\n",
        "\n",
        "This is a project to scrape data from the web and store the results in a text\n",
        "file and the SQLite database.\n",
        "\n",
        "\n",
        "The website https://finance.yahoo.com/trending-tickers lists extensive finance\n",
        "data. You have to write Python scripts/programs to collect the current prices\n",
        "for the following commodities: Crude Oil, Gold and Silver.\n",
        "\n",
        "Your program\n",
        "should store the commodity name and its corresponding price in a text file\n",
        "called commodity_prices.txt.\n",
        "In addition to the commodity_prices.txt file, the data should also be stored in\n",
        "an SQLite database called CommodityDatabase in the directory that your\n",
        "Jupyter Notebook code will be executed from.\n",
        "\n",
        "The CommodityDatabase\n",
        "should have a table called CommodityTable that contains the following\n",
        "columns and types:\n",
        "Ticker TEXT\n",
        "Price REAL\n",
        "Every execution of your program should create a new commodity_prices.txt\n",
        "and CommodityDatabase.db file in the directory (delete any existing files that\n",
        "you will create) that your Python script is located and run\n",
        "\n",
        "\n"
      ],
      "metadata": {
        "id": "kWvf40oj1p2M"
      }
    },
    {
      "cell_type": "markdown",
      "source": [
        "###Algorithm\n",
        "\n",
        "1. Install the necessary Python libraries.\n",
        "2. Remove Existing Files:\n",
        "  * Iterate over the list of file names ('commodity_prices.txt' and 'CommodityDatabase.db').\n",
        "  * Check if each file exists using os.path.exists().\n",
        "  * If a file exists, remove it using os.remove().\n",
        "3. Define Ticker Symbols and Commodity Names Mapping:\n",
        "  * Create a dictionary (commodity_map) that maps ticker symbols to commodity names.\n",
        "4. Fetch Current Prices Using yfinance:\n",
        "  * Get a list of ticker symbols from the commodity_map dictionary.\n",
        "  * Use yf.download() to fetch historical financial data for the tickers with a period of one day.\n",
        "  * Extract the closing prices for the tickers from the downloaded data.\n",
        "  * Create a dictionary (prices) that maps commodity names to their corresponding rounded closing prices.\n",
        "5. Save Data to Text File:\n",
        "  * Open the file 'commodity_prices.txt' in write mode.\n",
        "  * Write each commodity name and its price in the specified format to the file.\n",
        "6. Save Data to SQLite Database:\n",
        "  * Connect to the SQLite database file ('CommodityDatabase.db').\n",
        "  * Create a cursor object to interact with the database.\n",
        "  * Execute a SQL command to create a table named CommodityTable with columns Ticker and Price.\n",
        "  * Use the executemany() method to insert multiple rows of data into the CommodityTable from the prices dictionary.\n",
        "  * Commit the changes to the database.\n",
        "  * Close the database connection.\n",
        "7. Print Success Message:\n",
        "  * Print a message indicating that the data has been fetched and stored successfully.\n",
        "\n",
        "\n",
        "  Note: Used yfinance to fetch the data because I was unable to fetch the data from their websites"
      ],
      "metadata": {
        "id": "UZ3Ekjsp14kW"
      }
    },
    {
      "cell_type": "markdown",
      "source": [
        "###Code Implementation"
      ],
      "metadata": {
        "id": "Ato8Kqo815pK"
      }
    },
    {
      "cell_type": "code",
      "source": [
        "import yfinance as yf\n",
        "import sqlite3\n",
        "import os\n",
        "\n",
        "#To remove existing files\n",
        "for file in ['commodity_prices.txt', 'CommodityDatabase.db']:\n",
        "  os.remove(file) if os.path.exists(file) else None\n",
        "\n",
        "#To ticker symbols to commodity names\n",
        "commodity_map = {'CL=F': 'Crude Oil', 'GC=F': 'Gold', 'SI=F': 'Silver'}\n",
        "\n",
        "#To fetch current prices using yfinance\n",
        "tickers = list(commodity_map.keys())\n",
        "data = yf.download(tickers, period='1d')['Close']\n",
        "prices = {commodity_map[t]: round(data.iloc[-1][i], 2) for i, t in enumerate(tickers)}\n",
        "\n",
        "#To save data to text file\n",
        "with open('commodity_prices.txt', 'w') as file:\n",
        "  file.write('\\n'.join(f\"{commodity}: ${price}\" for commodity, price in prices.items()))\n",
        "\n",
        "#To save data to SQLite database\n",
        "conn = sqlite3.connect('CommodityDatabase.db')\n",
        "cursor = conn.cursor()\n",
        "cursor.execute('CREATE TABLE CommodityTable (Ticker TEXT, Price REAL)')\n",
        "cursor.executemany('INSERT INTO CommodityTable VALUES (?, ?)', prices.items())\n",
        "conn.commit()\n",
        "conn.close()\n",
        "\n",
        "print(\"Data fetched and stored successfully.\")"
      ],
      "metadata": {
        "colab": {
          "base_uri": "https://localhost:8080/"
        },
        "outputId": "2e6f5d13-c89a-4e38-96a7-06c22a240ebc",
        "id": "iopCDhUAyk1i"
      },
      "execution_count": null,
      "outputs": [
        {
          "output_type": "stream",
          "name": "stdout",
          "text": [
            "[*********************100%%**********************]  3 of 3 completed\n",
            "Data fetched and stored successfully.\n"
          ]
        }
      ]
    },
    {
      "cell_type": "markdown",
      "source": [
        "1. Connect to the Database:\n",
        "  * Use sqlite3.connect() to connect to the SQLite database file 'CommodityDatabase.db'.\n",
        "  * Create a cursor object (db_cursor) to interact with the database.\n",
        "2. Get Column Information:\n",
        "\n",
        "  * Execute PRAGMA table_info(CommodityTable) to fetch information about the columns in the CommodityTable.\n",
        "  * Iterate through the retrieved column information.\n",
        "  * Print the column name and its data type.\n",
        "3. Get Column Names:\n",
        "  * Execute PRAGMA table_info(CommodityTable) again to fetch the column names.\n",
        "  * Create a list (column_names) containing the names of the columns.\n",
        "4. Select and Print Data:\n",
        "  * Execute SELECT * FROM CommodityTable to retrieve all data from the CommodityTable.\n",
        "  * Fetch the rows of data.\n",
        "  * Print the column names and the retrieved data.\n",
        "5. Close Database Connection:\n",
        "  * Close the database connection using the with statement.\n",
        "6. Sample Output:\n",
        "  * Print the column information, names, and the retrieved data."
      ],
      "metadata": {
        "id": "ePNfbTmq8DDH"
      }
    },
    {
      "cell_type": "code",
      "source": [
        "import sqlite3\n",
        "\n",
        "#To connect to the database file\n",
        "with sqlite3.connect('CommodityDatabase.db') as db_conn:\n",
        "  db_cursor = db_conn.cursor()\n",
        "\n",
        "# To get column information\n",
        "  db_cursor.execute('PRAGMA table_info(CommodityTable)')\n",
        "  columns_info = db_cursor.fetchall()\n",
        "\n",
        "  print(\"Column Information:\")\n",
        "  for col_info in columns_info:\n",
        "    col_name, col_type = col_info[1], col_info[2]\n",
        "    print(f\"{col_name}: {col_type}\")\n",
        "\n",
        "  print(\"\\n\")\n",
        "\n",
        "  #To get column names\n",
        "  db_cursor.execute('PRAGMA table_info(CommodityTable)')\n",
        "  column_names = [col[1] for col in db_cursor.fetchall()]\n",
        "\n",
        "  # To execute a query to select all data from the CommodityTable\n",
        "  db_cursor.execute('SELECT * FROM CommodityTable')\n",
        "  rows = db_cursor.fetchall()\n",
        "\n",
        "  # To print column names\n",
        "  print(f\"{column_names}\\n\")\n",
        "\n",
        "  # To print the retrieved data\n",
        "  for row in rows:\n",
        "    print(row)"
      ],
      "metadata": {
        "colab": {
          "base_uri": "https://localhost:8080/"
        },
        "id": "Wp3AbbMo13B5",
        "outputId": "99957fb1-b9ca-4247-eae3-0c548a3d99b6"
      },
      "execution_count": null,
      "outputs": [
        {
          "output_type": "stream",
          "name": "stdout",
          "text": [
            "Column Information:\n",
            "Ticker: TEXT\n",
            "Price: REAL\n",
            "\n",
            "\n",
            "['Ticker', 'Price']\n",
            "\n",
            "('Crude Oil', 73.61)\n",
            "('Gold', 2105.0)\n",
            "('Silver', 25.89)\n"
          ]
        }
      ]
    },
    {
      "cell_type": "code",
      "source": [],
      "metadata": {
        "id": "Ko_oNkqg8eF5"
      },
      "execution_count": null,
      "outputs": []
    }
  ]
}