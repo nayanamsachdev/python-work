{
  "cells": [
    {
      "cell_type": "markdown",
      "metadata": {
        "id": "eCQkqkrUOLpN"
      },
      "source": [
        "#Question 1\n",
        "Implement a program that requests three strings from the user. Your\n",
        "program should concatenate the first two strings in the reverse order and compare the concatenated string with the third string. If they are equal, your program should print “They are equal”, otherwise, the program prints “They are not equal”.\n"
      ]
    },
    {
      "cell_type": "markdown",
      "metadata": {
        "id": "9jbOmB0GOao2"
      },
      "source": [
        "### Algorithm\n",
        "\n",
        "1. Take user input for all the 3 strings.\n",
        "2. Using if-else condition, check whether the first two strings (after concatenation), are equal to the third string.\n",
        "3. Print result."
      ]
    },
    {
      "cell_type": "markdown",
      "metadata": {
        "id": "j1WRL021Ohvp"
      },
      "source": [
        "### Code Implementation"
      ]
    },
    {
      "cell_type": "code",
      "execution_count": null,
      "metadata": {
        "colab": {
          "base_uri": "https://localhost:8080/"
        },
        "id": "XrUEFJSDOkTd",
        "outputId": "55857121-c8c7-4b56-d26c-fb3887dc1cdc"
      },
      "outputs": [
        {
          "output_type": "stream",
          "name": "stdout",
          "text": [
            "Enter string 1: hi\n",
            "Enter string 2: hello\n",
            "Enter string 3: hello hi\n",
            "They are not equal\n"
          ]
        }
      ],
      "source": [
        "#To take the user input\n",
        "x = input(\"Enter string 1: \")\n",
        "y = input(\"Enter string 2: \")\n",
        "z = input(\"Enter string 3: \")\n",
        "\n",
        "#To check if the concatenation of the first two strings is equal to the third string and print the result\n",
        "if y + x == z:\n",
        "  print(\"They are equal\")\n",
        "else:\n",
        "  print(\"They are not equal\")"
      ]
    },
    {
      "cell_type": "markdown",
      "metadata": {
        "id": "oomZZm4runAV"
      },
      "source": [
        "#Question 2\n",
        "Write a Python program that reads in 3 integers or 4 integers (user first\n",
        "determines 3 or 4 integers) and displays the following:\n",
        "\n",
        "a. the average of the numbers (two decimal places suggested)\n",
        "\n",
        "b. the maximum of the numbers\n",
        "\n",
        "Do not use Python’s internal functions for average and maximum."
      ]
    },
    {
      "cell_type": "markdown",
      "source": [
        "### Algorithm\n",
        "\n",
        "1. Ask the user if they want to input 3 or 4 integers.\n",
        "2. If the user inputs any value other than 3 or 4, show an error message (using else at the end of the condition).\n",
        "3. If the user input is 3:\n",
        "  * Get the user to input 3 values.\n",
        "  * Calculate the average of the 3 values and store it in a new variable.\n",
        "  * Print the average with 2 decimal places.\n",
        "  * Using nested if-else condition, check for the maximum value amongst the 3 values.\n",
        "  * Print the maximum value.\n",
        "4. If the user input is 4:\n",
        "  * Get the user to input 4 values.\n",
        "  * Calculate the average of the 4 values and store it in a new variable.\n",
        "  * Print the average with 2 decimal places.\n",
        "  * Using nested if-else condition, check for the maximum value amongst the 4 values.\n",
        "  * Print the maximum value."
      ],
      "metadata": {
        "id": "Crx67i1T6R3-"
      }
    },
    {
      "cell_type": "markdown",
      "source": [
        "### Code Implementation"
      ],
      "metadata": {
        "id": "OQhao6SU58ZW"
      }
    },
    {
      "cell_type": "code",
      "execution_count": null,
      "metadata": {
        "colab": {
          "base_uri": "https://localhost:8080/"
        },
        "id": "FSg4Io-bgqxG",
        "outputId": "af4e7c92-0b3a-4a0d-f75b-bb6e41660521"
      },
      "outputs": [
        {
          "output_type": "stream",
          "name": "stdout",
          "text": [
            "Enter the set of integers (3/4): 3\n",
            "Enter value 1: 1\n",
            "Enter value 2: 2\n",
            "Enter value 3: 3\n",
            "Average of the numbers is 2.00\n",
            "Maximum value:  3\n"
          ]
        }
      ],
      "source": [
        "3#To take the user input\n",
        "user = int(input(\"Enter the set of integers (3/4): \"))\n",
        "\n",
        "#To check if the user enters 3\n",
        "if user == 3:\n",
        "  #To get the user to input 3 values if the condition is satisfied\n",
        "  a = int(input(\"Enter value 1: \"))\n",
        "  b = int(input(\"Enter value 2: \"))\n",
        "  c = int(input(\"Enter value 3: \"))\n",
        "  #To average the 3 values\n",
        "  avg = (a + b + c)/3\n",
        "  #To print the average with 2 decimal places\n",
        "  print(f\"Average of the numbers is {avg:.2f}\")\n",
        "\n",
        "  #To compare the values pairwise and print the maximum value\n",
        "  if a >= b:\n",
        "    if a >= c:\n",
        "      print(\"Maximum value: \", a)\n",
        "    else:\n",
        "      print(\"Maximum value: \", c)\n",
        "  else:\n",
        "    if b >= c:\n",
        "      print(\"Maximum value: \", b)\n",
        "    else:\n",
        "      print(\"Maximum value: \", c)\n",
        "\n",
        "#To check if the user enters 4\n",
        "elif user == 4:\n",
        "  #To get the user to input 4 values if the condition is satisfied\n",
        "  a = int(input(\"Enter value 1: \"))\n",
        "  b = int(input(\"Enter value 2: \"))\n",
        "  c = int(input(\"Enter value 3: \"))\n",
        "  d = int(input(\"Enter value 4: \"))\n",
        "  #To average the 4 values\n",
        "  avg = (a + b + c +d)/4\n",
        "  #To print the average with 2 decimal places\n",
        "  print(f\"Average of the numbers is {avg:.2f}\")\n",
        "\n",
        "  #To compare the values pairwise and print the maximum value\n",
        "  if a >= b:\n",
        "    if a >= c:\n",
        "        if a >= d:\n",
        "            print(\"Maximum value: \", a)\n",
        "        else:\n",
        "            print(\"Maximum value: \", d)\n",
        "    else:\n",
        "        if c >= d:\n",
        "            print(\"Maximum value: \", c)\n",
        "        else:\n",
        "            print(\"Maximum value: \", d)\n",
        "  else:\n",
        "    if b >= c:\n",
        "        if b >= d:\n",
        "            print(\"Maximum value: \", b)\n",
        "        else:\n",
        "            print(\"Maximum value: \", d)\n",
        "    else:\n",
        "        if c >= d:\n",
        "            print(\"Maximum value: \", c)\n",
        "        else:\n",
        "            print(\"Maximum value: \", d)\n",
        "\n",
        "#To show an error message if the input is invalid\n",
        "else:\n",
        "  print(\"ERROR!!\")\n"
      ]
    },
    {
      "cell_type": "markdown",
      "metadata": {
        "id": "8rsVUNT7us-d"
      },
      "source": [
        "#Question 3\n",
        "An integer, greater than 1, that is only divisible by 1 and itself is called\n",
        "a prime number. All other numbers greater than 1 are called composite numbers.\n",
        "The integers 0 and 1 are neither prime nor composite. Write a python program\n",
        "that requests a positive integer from the user, determines if it is a prime,\n",
        "composite or neither prime or composite and prints the message."
      ]
    },
    {
      "cell_type": "markdown",
      "source": [
        "### Algorithm\n",
        "\n",
        "1. Ask the user to input a positive integer.\n",
        "2. If the user inputs any value other than a positive integer, show an error message (using else at the end of the condition).\n",
        "3. Initiate a variable (is_prime) to track if the number inputed is prime or not.\n",
        "4. Using if-elif-else condition, check the input:\n",
        "  * If the x is 0 or 1, print that the number is neither prime nor composite.\n",
        "  * If the x is greater than 1, run a loop for all the numbers starting from 2 to x.\n",
        "    * If x is divible by any value of i in the range, set is_prime to be false and print that the inputed value is a composite number.\n",
        "  * Outside the loop, check if the is_prime holds true for the value and print that the inputed number is a prime number.\n",
        "\n"
      ],
      "metadata": {
        "id": "JGfaaubq6TOM"
      }
    },
    {
      "cell_type": "markdown",
      "source": [
        "### Code Implementation"
      ],
      "metadata": {
        "id": "Zc8VeFJb6CWe"
      }
    },
    {
      "cell_type": "code",
      "execution_count": null,
      "metadata": {
        "colab": {
          "base_uri": "https://localhost:8080/"
        },
        "id": "A0d2Ntpekn3-",
        "outputId": "d6fc28cf-424d-40c2-ca91-6d56684d496b"
      },
      "outputs": [
        {
          "output_type": "stream",
          "name": "stdout",
          "text": [
            "Enter a positive integer: 6\n",
            "6 is a composite number\n"
          ]
        }
      ],
      "source": [
        "#To ask the user to input a positive integer\n",
        "x = int(input(\"Enter a positive integer: \"))\n",
        "\n",
        "#To track if the input is prime or not\n",
        "is_prime = True\n",
        "\n",
        "#To check of the user input is neither prime nor composite\n",
        "if x == 0 or x == 1:\n",
        "  print(f\"{x} is neither prime nor composite.\")\n",
        "elif x > 1:\n",
        "  #To check if the user input is prime or composite\n",
        "  for i in range(2, x):\n",
        "    if x % i == 0:\n",
        "      is_prime = False\n",
        "      print(f\"{x} is a composite number\")\n",
        "      break\n",
        "  if is_prime:\n",
        "      print(f\"{x} is a prime number\")\n",
        "#To show an error message if the user input is not a positive number\n",
        "else:\n",
        "  print(\"You did not enter a positive integer\")\n"
      ]
    },
    {
      "cell_type": "markdown",
      "source": [
        "#Question 4\n",
        "Implement a Python function with 3 arguments called\n",
        "SimpleInterest(Principle, Interest, Years). The arguments are:\n",
        "\n",
        "a. A principle amount (float)\n",
        "\n",
        "b. Interest Rate (0 to 100% as a float)\n",
        "\n",
        "c. Years (integer)\n",
        "\n",
        "Your function should return the simple interest amount. The formula for a simple interest is (Principle*InterestRate*Years)/100. Write your function definition in one cell and the function calling code below it or in a different cell in Jupyter Notebook. Your code should ensure that the user input is in the correct type and format."
      ],
      "metadata": {
        "id": "xEpM161Mvf0M"
      }
    },
    {
      "cell_type": "markdown",
      "source": [
        "### Algorithm\n",
        "1. Using a while loop, repeatedly ask the user to enter the Principle amount if their input type is not float, by displaying an error message along with it.\n",
        "  * Exit the loop if the inputed value is float.\n",
        "2. Using a while loop, repeatedly ask the user to enter the Interest Rate if their input type is not float, by displaying an error message along with it.\n",
        "  * Exit the loop if the inputed value is float.\n",
        "  * Check if the Interest Rate inputed by the user is between 0% and 100%.\n",
        "  * If yes, then break.\n",
        "  * If not, then show an error message.\n",
        "3. Using a while loop, repeatedly ask the user to enter the number of Years if their input type is not an integer, by displaying an error message along with it.\n",
        "  * Exit the loop if the inputed value is an integer.\n",
        "4. Define a function that takes Principle, Interest Rate and Years as the three parameters.\n",
        "  * Calculate and print the Interest Rate using the formula.\n",
        "6. Call the function\n",
        "\n",
        "\n"
      ],
      "metadata": {
        "id": "DGCb84ou6UeI"
      }
    },
    {
      "cell_type": "markdown",
      "source": [
        "### Code Implementation"
      ],
      "metadata": {
        "id": "mBU1uzwh6EWo"
      }
    },
    {
      "cell_type": "code",
      "source": [
        "\n",
        "#To repeatedly ask the user to input the Principle amount\n",
        "while True:\n",
        "    try:\n",
        "      Principle = float(input(\"Enter the Principle Amount: \"))\n",
        "      #To exit the loop if the input is a valid floating number\n",
        "      break\n",
        "    #To show an error message if the input is invalid\n",
        "    except ValueError:\n",
        "       print(\"Please enter a valid input for Principle.\")\n",
        "\n",
        "#To repeatedly ask the user to input the Interest Rate\n",
        "while True:\n",
        "  try:\n",
        "    Interest = float(input(\"Enter the Interest Rate (0 to 100%): \"))\n",
        "    #To check if the Interest Rate is within the range\n",
        "    if 0 <= Interest <= 100:\n",
        "      break\n",
        "    else:\n",
        "      #To print an error message if the Interest Rate is not within the range\n",
        "      print(\"Please enter a valid interest rate, between 0 and 100.\")\n",
        "  #To show an error message if the input is invalid\n",
        "  except ValueError:\n",
        "    print(\"Please enter a valid input for Interest.\")\n",
        "\n",
        "#To repeatedly ask the user to input the number of Years\n",
        "while True:\n",
        "  try:\n",
        "    Years = int(input(\"Enter the number of Years: \"))\n",
        "    #To exit the loop if the input is an integer\n",
        "    break\n",
        "  #To show an error message if the input is invalid\n",
        "  except ValueError:\n",
        "    print(\"Please enter a valid input for Years.\")\n",
        "\n",
        "#To define a function that calculates Simple Interest using the 3 arguments\n",
        "def SimpleInterest(Principle, Interest, Years):\n",
        "      #To calculate Simple Interest\n",
        "      simple_interest = (Principle * Interest * Years) / 100\n",
        "      return simple_interest\n",
        "\n",
        "#To call the function\n",
        "SimpleInterest(Principle, Interest, Years)"
      ],
      "metadata": {
        "id": "Q3LrIsz5vh3H",
        "colab": {
          "base_uri": "https://localhost:8080/"
        },
        "outputId": "c05fc272-2e65-4b50-d5f4-4c027d269479"
      },
      "execution_count": null,
      "outputs": [
        {
          "name": "stdout",
          "output_type": "stream",
          "text": [
            "Enter the Principle Amount: 1000\n",
            "Enter the Interest Rate (0 to 100%): 10\n",
            "Enter the number of Years: 3\n"
          ]
        },
        {
          "output_type": "execute_result",
          "data": {
            "text/plain": [
              "300.0"
            ]
          },
          "metadata": {},
          "execution_count": 18
        }
      ]
    },
    {
      "cell_type": "markdown",
      "metadata": {
        "id": "Y9bdxUiCUPEC"
      },
      "source": [
        "#Question 5\n",
        "Write a python program for a shopping cart. The program should allow shopper to enter the product name and price. Use loop so that shopper can enter as many inputs as necessary and validate the inputs as product name should be string and price should be more than $0. At the end, the output should\n",
        "\n",
        "• display the total the shopper needs to pay. Use f-string to format the total\n",
        "value for two decimal points and comma.\n",
        "\n",
        "• print the name and price for all the entries with appropriate headings"
      ]
    },
    {
      "cell_type": "markdown",
      "source": [
        "### Algorithm\n",
        "1. Define a function to get product name from the user.\n",
        "  * Using a loop, keep prompting the user to enter the product name if the input is invalid.\n",
        "  * If the input is valid, return the product name.\n",
        "2. Define a function to get the product price from the user.\n",
        "  * Using a loop, keep prompting the user to enter the product name if the input is invalid.\n",
        "  * If the input is valid, return the product price.\n",
        "3. Initialize empty lists to store the product details and total price in them.\n",
        "4. Ask the user to add items in the cart.\n",
        "5. Using a loop, ask the user to input the product details.\n",
        "  * Store the product details in the initialized list.\n",
        "  * Update the total price in the initialized list by adding it to the current price.\n",
        "  * Ask the user if they want to add more products.\n",
        "6. Print the product details.\n",
        "7. Print the total price."
      ],
      "metadata": {
        "id": "BM8uX9Lt6Vs7"
      }
    },
    {
      "cell_type": "markdown",
      "source": [
        "### Code Implementation"
      ],
      "metadata": {
        "id": "e9OWHZsV6HEs"
      }
    },
    {
      "cell_type": "code",
      "execution_count": null,
      "metadata": {
        "colab": {
          "base_uri": "https://localhost:8080/"
        },
        "id": "q6xsJr4uTytq",
        "outputId": "f5bf70bd-ead0-4f59-ae0a-2c29b8676886"
      },
      "outputs": [
        {
          "output_type": "stream",
          "name": "stdout",
          "text": [
            "Please add items to your cart: \n",
            "\n",
            "Enter the required details below: \n",
            "Enter product name: a\n",
            "Enter product price: a\n",
            "Please enter a valid input.\n",
            "Enter product price: 1\n",
            "Do you wish to add more products to the cart (yes/no)? yes\n",
            "\n",
            "Enter the required details below: \n",
            "Enter product name: b\n",
            "Enter product price: 2\n",
            "Do you wish to add more products to the cart (yes/no)? no\n",
            "\n",
            "Cart details: \n",
            "\n",
            "Product             Price\n",
            "------------------------------\n",
            "a                   $1.00\n",
            "b                   $2.00\n",
            "------------------------------\n",
            "Total price to be paid: $3.00\n"
          ]
        }
      ],
      "source": [
        "#To define a function to get the product name from the user\n",
        "def product_name():\n",
        "  while True:\n",
        "    name = input(\"Enter product name: \")\n",
        "    if name == \"\":\n",
        "      print(\"Enter valid product name.\")\n",
        "    else:\n",
        "      return name\n",
        "\n",
        "#To define a function to get the product price from the user\n",
        "def product_price():\n",
        "  while True:\n",
        "    try:\n",
        "      price = float(input(\"Enter product price: \"))\n",
        "      if price <= 0:\n",
        "        print(\"Price cannot be less than $0. Please enter valid price.\")\n",
        "      else:\n",
        "        return price\n",
        "    except ValueError:\n",
        "      print(\"Please enter a valid input.\")\n",
        "\n",
        "#To initialize empty lists and store the inputed details in them\n",
        "product_details = []\n",
        "total_price = 0.00\n",
        "\n",
        "print(\"Please add items to your cart: \")\n",
        "\n",
        "#To allow the user to give multiple inputs\n",
        "while True:\n",
        "  print(\"\\nEnter the required details below: \")\n",
        "  name = product_name()\n",
        "  price = product_price()\n",
        "\n",
        "  #To store the details in the initialized lists\n",
        "  product_details.append((name, price))\n",
        "\n",
        "  #To update the total price\n",
        "  total_price += price\n",
        "\n",
        "  another_product = input(\"Do you wish to add more products to the cart (yes/no)? \").lower()\n",
        "  if another_product != \"yes\":\n",
        "    break\n",
        "\n",
        "print(\"\\nCart details: \")\n",
        "print(f\"\\n{'Product':<20}Price\")\n",
        "print(\"-\" * 30)\n",
        "\n",
        "#To get all the details printed in this given format\n",
        "for product in product_details:\n",
        "    name, price = product\n",
        "    print(f\"{name:<20}${price:.2f}\")\n",
        "\n",
        "print(\"-\" * 30)\n",
        "print(f\"Total price to be paid: ${total_price:,.2f}\")"
      ]
    },
    {
      "cell_type": "markdown",
      "metadata": {
        "id": "cC3qq-ezVu05"
      },
      "source": [
        "#Question 6\n",
        "“Rock-paper-scissors is a hand game that is played by two people. The players count to three in unison and simultaneously \"throw\" one of three hand signals that correspond to rock, paper or scissors. The winner is determined by the rules:\n",
        "\n",
        "• Rock smashes scissors\n",
        "\n",
        "• Scissors cuts paper\n",
        "\n",
        "• Paper covers rock\n",
        "\n",
        "Rock-paper-scissors is a surprisingly popular game that many people play seriously (see the Wikipedia article for details). Write a Python program to ask the user’s choice of Rock paper scissors. The program then, randomly, chooses a choice for itself (the computer) and then compares it with the user’s choice. The output should show, the user’s choice, the program’s choice and the winner.\n",
        "\n",
        "Finally, you want to play at least 10 times. Store and display the computer\n",
        "choices and user inputs in a pandas dataframe with headings.\n"
      ]
    },
    {
      "cell_type": "markdown",
      "source": [
        "### Algorithm\n",
        "1. Import the random module to generate random numbers.\n",
        "2. Import pandas to create the dataframe.\n",
        "3. Initialize empty lists to store the data in them.\n",
        "4. Ask the user if they want to play the game.\n",
        "5. Using if-else condition:\n",
        "  * If the user says no, create a dataframe using the initialized lists to record the user choices and the computer choices (using else at the end of the condition).\n",
        "  * If the user says yes:\n",
        "    * Display the rules of the game.\n",
        "    * List the available options to pick from, for the user.\n",
        "    * Using loop, make the user play the game 10 times.\n",
        "      * Ask the user to enter their choice.\n",
        "      * If the user choice is in the options, store the values in the initialized list.\n",
        "      * Ask the user to choose again if the user choice is invalid.\n",
        "    * Get the computer to generate a random guess.\n",
        "    * If the computer guess is in the options, store and display it.\n",
        "    * Using if-elif-else condition, compare user choice with computer choice and declare the winner accordingly.\n",
        "6. Create another dataframe using the initialized lists to display all the choices."
      ],
      "metadata": {
        "id": "qjnV4DMM6XJK"
      }
    },
    {
      "cell_type": "markdown",
      "source": [
        "### Code Implementation"
      ],
      "metadata": {
        "id": "gHamL8of6KFK"
      }
    },
    {
      "cell_type": "code",
      "execution_count": null,
      "metadata": {
        "id": "V4As_tjpVwTM",
        "colab": {
          "base_uri": "https://localhost:8080/"
        },
        "outputId": "7bd8ce6f-4bea-4270-a143-71e12234da34"
      },
      "outputs": [
        {
          "output_type": "stream",
          "name": "stdout",
          "text": [
            "Do you want to play the game (yes/no)?yes\n",
            "\n",
            "Okay. The rules of the game are: \n",
            "1. Rock smashes scissors.\n",
            "2. Scissors cuts paper.\n",
            "3. Paper covers rock.\n",
            "Enter your choice (rock/paper/scissors): r\n",
            "Invalid choice. Please choose again.\n",
            "Enter your choice (rock/paper/scissors): rock\n",
            "Computer chooses rock\n",
            "Its a tie.\n",
            "Enter your choice (rock/paper/scissors): paper\n",
            "Computer chooses rock\n",
            "The user won.\n",
            "Enter your choice (rock/paper/scissors): scissors\n",
            "Computer chooses rock\n",
            "The computer won.\n",
            "Enter your choice (rock/paper/scissors): rock\n",
            "Computer chooses scissors\n",
            "The user won.\n",
            "Enter your choice (rock/paper/scissors): paper\n",
            "Computer chooses rock\n",
            "The user won.\n",
            "Enter your choice (rock/paper/scissors): scissors\n",
            "Computer chooses rock\n",
            "The computer won.\n",
            "Enter your choice (rock/paper/scissors): rock\n",
            "Computer chooses scissors\n",
            "The user won.\n",
            "Enter your choice (rock/paper/scissors): paper\n",
            "Computer chooses scissors\n",
            "The computer won.\n",
            "Enter your choice (rock/paper/scissors): scissors\n",
            "Computer chooses rock\n",
            "The computer won.\n",
            "Enter your choice (rock/paper/scissors): rock\n",
            "Computer chooses rock\n",
            "Its a tie.\n",
            "  User_Choice Computer_Choice\n",
            "0        rock            rock\n",
            "1       paper            rock\n",
            "2    scissors            rock\n",
            "3        rock        scissors\n",
            "4       paper            rock\n",
            "5    scissors            rock\n",
            "6        rock        scissors\n",
            "7       paper        scissors\n",
            "8    scissors            rock\n",
            "9        rock            rock\n"
          ]
        }
      ],
      "source": [
        "#To import the random module\n",
        "import random\n",
        "#To import pandas for creating the dataframe\n",
        "import pandas as pd\n",
        "\n",
        "#To initialize empty lists and store the values in them\n",
        "uc=[]\n",
        "cc=[]\n",
        "\n",
        "#To ask the user if they want to play\n",
        "user = input(\"Do you want to play the game (yes/no)?\").lower()\n",
        "\n",
        "#To start the game if the user agrees\n",
        "if user == \"yes\":\n",
        "  #To display the rules of the game\n",
        "  print(\"\\nOkay. The rules of the game are: \")\n",
        "  print(\"1. Rock smashes scissors.\")\n",
        "  print(\"2. Scissors cuts paper.\")\n",
        "  print(\"3. Paper covers rock.\")\n",
        "\n",
        "  #To list the available options\n",
        "  options = ['rock', 'paper', 'scissors']\n",
        "\n",
        "  #To make the user play 10 times\n",
        "  for i in range(0,10):\n",
        "    #To get the user to enter their choice\n",
        "    user_turn = input(\"Enter your choice (rock/paper/scissors): \")\n",
        "    #To check if the user input is in the options\n",
        "    if user_turn in options:\n",
        "      #To store the details in the initialized list\n",
        "      uc.append(user_turn)\n",
        "\n",
        "    #To check if the user's choice is invalid and ask them to choose again\n",
        "    while user_turn not in options:\n",
        "      print(\"Invalid choice. Please choose again.\")\n",
        "      user_turn = input(\"Enter your choice (rock/paper/scissors): \")\n",
        "      uc.append(user_turn)\n",
        "\n",
        "    #To generate a random guess for the computer\n",
        "    computer_turn = random.choice(options)\n",
        "    #To check of the computer choice is in the options\n",
        "    if computer_turn in options:\n",
        "      #To store the details in the initialized list\n",
        "      cc.append(computer_turn)\n",
        "    print(f\"Computer chooses {computer_turn}\")\n",
        "\n",
        "    #To compare the choices and declare a winner\n",
        "    if user_turn == computer_turn:\n",
        "      print (\"Its a tie.\")\n",
        "    elif (\n",
        "        (user_turn == 'rock' and computer_turn == 'scissors') or\n",
        "        (user_turn == 'scissors' and computer_turn == 'paper') or\n",
        "        (user_turn == 'paper' and computer_turn == 'rock')):\n",
        "        print(\"The user won.\")\n",
        "    else:\n",
        "      print(\"The computer won.\")\n",
        "\n",
        "#To create another dataframe using the initialized lists above and display all the choices\n",
        "df = pd.DataFrame({\"User_Choice\":uc,\"Computer_Choice\":cc})\n",
        "print(df)"
      ]
    },
    {
      "cell_type": "markdown",
      "source": [
        "#Question 7\n",
        "Write a program where the user and the program/computer play a number guessing game. The program should prompt the user for a number (between 1 and 100, inclusive) then the program/computer has to guess what the user entered. Keep track of the number of iterations it takes for the computer to guess the number."
      ],
      "metadata": {
        "id": "HqQttdl2oZFY"
      }
    },
    {
      "cell_type": "markdown",
      "source": [
        "### Algorithm\n",
        "1. Import the random module to generate random numbers.\n",
        "2. Print the name of the game and ask the user to think of a number.\n",
        "3. Define a function to play the game, and within that function:\n",
        "  * Initialize the lower limit and upper limit of the range and the number of attempts.\n",
        "  * Ask the user to input the number to be guessed by the computer.\n",
        "  * Using a loop, check whether the inputed number is within the range.\n",
        "  * If the input is valid, initialize the game by using another loop.\n",
        "    * Get the computer to generate a random guess and display it.\n",
        "    * Ask the user if the computer guessed the number correctly, or if it needs to go lower or higher than the last guess.\n",
        "    * Using if-elif-else condition, increment the number of loops and:\n",
        "      * Break out of the loop, if guessed correctly.\n",
        "      * Adjust the initialized range based on the hints provided by the user.\n",
        "      * Show an error message if the user response is invalid.\n",
        "  * Print the user input and the number of attempts the computer took to guess the number correctly.\n",
        "4. Call the function.\n",
        "\n"
      ],
      "metadata": {
        "id": "I6p2Ybja6YO9"
      }
    },
    {
      "cell_type": "markdown",
      "source": [
        "### Code Implementation"
      ],
      "metadata": {
        "id": "3jNGus3V6MCI"
      }
    },
    {
      "cell_type": "code",
      "execution_count": null,
      "metadata": {
        "id": "2EEUe2coXjxJ",
        "colab": {
          "base_uri": "https://localhost:8080/"
        },
        "outputId": "f7847a75-36ed-43a7-f014-5f54dd0d4121"
      },
      "outputs": [
        {
          "output_type": "stream",
          "name": "stdout",
          "text": [
            "GUESSING GAME!!\n",
            "Think of a number between 1 and 100.\n",
            "Enter a number to be guessed: 45\n",
            "Is your number 77?\n",
            "Enter higher, lower, or yes.lower\n",
            "Is your number 60?\n",
            "Enter higher, lower, or yes.lower\n",
            "Is your number 12?\n",
            "Enter higher, lower, or yes.higher\n",
            "Is your number 24?\n",
            "Enter higher, lower, or yes.higher\n",
            "Is your number 48?\n",
            "Enter higher, lower, or yes.lower\n",
            "Is your number 42?\n",
            "Enter higher, lower, or yes.higher\n",
            "Is your number 43?\n",
            "Enter higher, lower, or yes.higher\n",
            "Is your number 46?\n",
            "Enter higher, lower, or yes.lower\n",
            "Is your number 44?\n",
            "Enter higher, lower, or yes.higher\n",
            "Is your number 45?\n",
            "Enter higher, lower, or yes.yes\n",
            "You entered 45 and it took the computer 9 attempts to guess it!\n"
          ]
        }
      ],
      "source": [
        "#To import the random module\n",
        "import random\n",
        "\n",
        "print(\"GUESSING GAME!!\")\n",
        "print(\"Think of a number between 1 and 100.\")\n",
        "\n",
        "#To define a function to play the game\n",
        "def computer_guess_game():\n",
        "  #To initialize the values\n",
        "  lower_limit = 1\n",
        "  upper_limit = 100\n",
        "  attempts = 0\n",
        "\n",
        "  #To get the user to input a number to be guessed by the computer\n",
        "  user = int(input(\"Enter a number to be guessed: \"))\n",
        "\n",
        "  #To check whether the user input is within the initialized range of limits\n",
        "  while lower_limit < 1 and upper_limit > 100:\n",
        "    print(\"Please enter a number between 1 and 100.\")\n",
        "    user = int(input(\"Enter a number to be guessed: \"))\n",
        "\n",
        "  #To start the game if the input is valid\n",
        "  while True:\n",
        "    #To generate a random guess for the computer within the initialized range of limits\n",
        "    computer_guess = random.randint(lower_limit, upper_limit)\n",
        "    print(f\"Is your number {computer_guess}?\")\n",
        "\n",
        "    #To get hints from the user\n",
        "    check = input(\"Enter higher, lower, or yes.\")\n",
        "\n",
        "    #To end the game\n",
        "    if check == \"yes\":\n",
        "      break\n",
        "\n",
        "    #To increment the number of attempts\n",
        "    attempts += 1\n",
        "\n",
        "    #To adjust the initialized limits based on the hints\n",
        "    if check == \"higher\":\n",
        "      lower_limit = computer_guess + 1\n",
        "    elif check == \"lower\":\n",
        "      upper_limit = computer_guess - 1\n",
        "    else:\n",
        "      print(\"Please enter higher, lower, or yes.\")\n",
        "\n",
        "  print(f\"You entered {user} and it took the computer {attempts} attempts to guess it!\")\n",
        "\n",
        "#To call the function\n",
        "computer_guess_game()"
      ]
    }
  ],
  "metadata": {
    "colab": {
      "provenance": [],
      "collapsed_sections": [
        "eCQkqkrUOLpN",
        "oomZZm4runAV",
        "8rsVUNT7us-d",
        "xEpM161Mvf0M",
        "Y9bdxUiCUPEC",
        "HqQttdl2oZFY"
      ]
    },
    "kernelspec": {
      "display_name": "Python 3",
      "name": "python3"
    },
    "language_info": {
      "name": "python"
    }
  },
  "nbformat": 4,
  "nbformat_minor": 0
}